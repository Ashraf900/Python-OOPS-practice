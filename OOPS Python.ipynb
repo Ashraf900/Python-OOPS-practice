{
 "cells": [
  {
   "cell_type": "markdown",
   "id": "d0880769",
   "metadata": {},
   "source": [
    "# A ] Class & Objects in python\n",
    "- Class is Blue print for object creation.\n",
    "- Class has instance methods.\n",
    "- Class has behavior methods."
   ]
  },
  {
   "cell_type": "code",
   "execution_count": 7,
   "id": "2bd60b54",
   "metadata": {},
   "outputs": [
    {
     "name": "stdout",
     "output_type": "stream",
     "text": [
      "Name: Ashraf ,Age: 23 ,Sex: Male ,Profession: softwarDeveloper\n",
      "Ashraf is working as softwarDeveloper\n"
     ]
    }
   ],
   "source": [
    "class Employee:\n",
    "    # creating an instance method of a class\n",
    "    def __init__(self, Name, Age, Sex, Profession):  # Attributes\n",
    "        self.Name = Name\n",
    "        self.Age = Age\n",
    "        self.Sex = Sex\n",
    "        self.Profession = Profession\n",
    "    # creating an behaviour method of a class\n",
    "    def Details(self):\n",
    "        print('Name:',self.Name, ',Age:', self.Age, ',Sex:',self.Sex, ',Profession:',self.Profession)\n",
    "    \n",
    "    \n",
    "    def Work(self):\n",
    "        print(self.Name,'is working as', self.Profession)\n",
    "        \n",
    "\n",
    "Ashraf =Employee('Ashraf',23,'Male', 'softwarDeveloper')\n",
    "Ashraf.Details()\n",
    "Ashraf.Work()"
   ]
  },
  {
   "cell_type": "markdown",
   "id": "65462d02",
   "metadata": {},
   "source": [
    "# B] Class varibles and Instance Variables\n",
    "- Defining class variables and modifying it.\n",
    "- Defining instance variables and modifying instance varible.\n"
   ]
  },
  {
   "cell_type": "code",
   "execution_count": 18,
   "id": "53344704",
   "metadata": {},
   "outputs": [
    {
     "name": "stdout",
     "output_type": "stream",
     "text": [
      "Name: Ashraf Age: 23\n",
      "School_Name: Burnts college\n",
      "New_school: Saboo Siddik\n"
     ]
    }
   ],
   "source": [
    "class Students:\n",
    "    school = 'Burnts college'# Class variable\n",
    "    def __init__(self, name, age):\n",
    "        self.name= name\n",
    "        self.age = age\n",
    "        \n",
    "        \n",
    "s1 = Students('Ashraf',23)\n",
    "print('Name:',s1.name , 'Age:',s1.age)\n",
    "#Modifying the objects instance variables.\n",
    "s1.name = 'Fatima'\n",
    "s1.age  = 21\n",
    "print('School_Name:',Students.school)\n",
    "\n",
    "#Accessing the class variable and modifying it\n",
    "Students.school = 'Saboo Siddik'\n",
    "\n",
    "print('New_school:',Students.school)\n"
   ]
  },
  {
   "cell_type": "code",
   "execution_count": 28,
   "id": "009f1f9c",
   "metadata": {},
   "outputs": [
    {
     "name": "stdout",
     "output_type": "stream",
     "text": [
      "Name: Ashraf Age: 22 School: Anjuman Islam\n",
      "Name: Fatima Age: 14 School: Saboo Siddik\n"
     ]
    }
   ],
   "source": [
    "class Student:\n",
    "    \n",
    "    School_name = 'Anjuman Islam'\n",
    "    def __init__(self, name, age):\n",
    "        self.name = name\n",
    "        self.age = age\n",
    "    \n",
    "    def show(self):\n",
    "        print(\"Name:\", self.name, \"Age:\", self.age , 'School:', Student.School_name)\n",
    "        \n",
    "    def change_age(self, new_age):\n",
    "        #modifying the instance varibles.\n",
    "        self.age = new_age\n",
    "    \n",
    "    #Creating a classmethod to access or modify class \n",
    "    @classmethod\n",
    "    def new_school(cls, new_name):\n",
    "        cls.School_name = new_name\n",
    "        \n",
    "s1 = Student('Ashraf', 22)\n",
    "s1.show()\n",
    "\n",
    "\n",
    "s2 = Student('Fatima', 21)\n",
    "#modifying the instance variables of s2 object. \n",
    "s2.change_age(14)\n",
    "#modifying the class method to modify the class variable for object 2\n",
    "Student.new_school('Saboo Siddik')\n",
    "s2.show()"
   ]
  },
  {
   "cell_type": "markdown",
   "id": "623c9a44",
   "metadata": {},
   "source": [
    "# C] Object & Properties"
   ]
  },
  {
   "cell_type": "code",
   "execution_count": 35,
   "id": "c1d634f7",
   "metadata": {},
   "outputs": [
    {
     "name": "stdout",
     "output_type": "stream",
     "text": [
      "Fruit is Apple and Color is Red\n"
     ]
    }
   ],
   "source": [
    "class Fruit:\n",
    "    def __init__(self, name, color):\n",
    "        self.name = name\n",
    "        self.color = color\n",
    "\n",
    "    def show(self):\n",
    "        print(\"Fruit is\", self.name, \"and Color is\", self.color)\n",
    "#changing object properties\n",
    "s1 = Fruit('Banana', 'yello')\n",
    "\n",
    "#Modifying the object properties\n",
    "s1.name = 'Apple'\n",
    "s1.color = 'Red'\n",
    "\n",
    "s1.show()\n"
   ]
  },
  {
   "cell_type": "markdown",
   "id": "bf0b1e3e",
   "metadata": {},
   "source": [
    "### Deleting object "
   ]
  },
  {
   "cell_type": "code",
   "execution_count": 40,
   "id": "2e8678cb",
   "metadata": {},
   "outputs": [
    {
     "ename": "AttributeError",
     "evalue": "'Fruit' object has no attribute 'name'",
     "output_type": "error",
     "traceback": [
      "\u001b[1;31m---------------------------------------------------------------------------\u001b[0m",
      "\u001b[1;31mAttributeError\u001b[0m                            Traceback (most recent call last)",
      "Input \u001b[1;32mIn [40]\u001b[0m, in \u001b[0;36m<cell line: 21>\u001b[1;34m()\u001b[0m\n\u001b[0;32m     15\u001b[0m \u001b[38;5;66;03m#Delelting the entire s1 object\u001b[39;00m\n\u001b[0;32m     16\u001b[0m \u001b[38;5;66;03m# del s1\u001b[39;00m\n\u001b[0;32m     17\u001b[0m \u001b[38;5;66;03m# s1.show()\u001b[39;00m\n\u001b[0;32m     18\u001b[0m \n\u001b[0;32m     19\u001b[0m \u001b[38;5;66;03m#Deleting the object s1 property\u001b[39;00m\n\u001b[0;32m     20\u001b[0m \u001b[38;5;28;01mdel\u001b[39;00m s1\u001b[38;5;241m.\u001b[39mname\n\u001b[1;32m---> 21\u001b[0m \u001b[43ms1\u001b[49m\u001b[38;5;241;43m.\u001b[39;49m\u001b[43mshow\u001b[49m\u001b[43m(\u001b[49m\u001b[43m)\u001b[49m\n",
      "Input \u001b[1;32mIn [40]\u001b[0m, in \u001b[0;36mFruit.show\u001b[1;34m(self)\u001b[0m\n\u001b[0;32m      6\u001b[0m \u001b[38;5;28;01mdef\u001b[39;00m \u001b[38;5;21mshow\u001b[39m(\u001b[38;5;28mself\u001b[39m):\n\u001b[1;32m----> 7\u001b[0m     \u001b[38;5;28mprint\u001b[39m(\u001b[38;5;124m\"\u001b[39m\u001b[38;5;124mFruit is\u001b[39m\u001b[38;5;124m\"\u001b[39m, \u001b[38;5;28;43mself\u001b[39;49m\u001b[38;5;241;43m.\u001b[39;49m\u001b[43mname\u001b[49m, \u001b[38;5;124m\"\u001b[39m\u001b[38;5;124mand Color is\u001b[39m\u001b[38;5;124m\"\u001b[39m, \u001b[38;5;28mself\u001b[39m\u001b[38;5;241m.\u001b[39mcolor)\n",
      "\u001b[1;31mAttributeError\u001b[0m: 'Fruit' object has no attribute 'name'"
     ]
    }
   ],
   "source": [
    "class Fruit:\n",
    "    def __init__(self, name, color):\n",
    "        self.name = name\n",
    "        self.color = color\n",
    "\n",
    "    def show(self):\n",
    "        print(\"Fruit is\", self.name, \"and Color is\", self.color)\n",
    "#changing object properties\n",
    "s1 = Fruit('Banana', 'yello')\n",
    "\n",
    "#Modifying the object properties\n",
    "s1.name = 'Apple'\n",
    "s1.color = 'Red'\n",
    "\n",
    "#Delelting the entire s1 object\n",
    "del s1\n",
    "s1.show()\n",
    "\n",
    "#Deleting the object s1 property\n",
    "del s1.name\n",
    "s1.show()\n",
    "\n",
    "\n"
   ]
  },
  {
   "cell_type": "markdown",
   "id": "788cd092",
   "metadata": {},
   "source": [
    "# D] Constructor"
   ]
  },
  {
   "cell_type": "code",
   "execution_count": 61,
   "id": "6eb83493",
   "metadata": {},
   "outputs": [
    {
     "name": "stdout",
     "output_type": "stream",
     "text": [
      "Name: Ashraf Age: 22\n"
     ]
    }
   ],
   "source": [
    "class Student:\n",
    "    \n",
    "    #Constructor \n",
    "    #As soon as class object created its initializes the object.\n",
    "    def __init__(self, name, age):\n",
    "        self.name = name\n",
    "        self.age = age\n",
    "    def show(self):\n",
    "        print('Name:',self.name,'Age:',self.age)\n",
    "c = Student('Ashraf', 22)\n",
    "c.show()\n",
    "        \n"
   ]
  },
  {
   "cell_type": "markdown",
   "id": "d9b27737",
   "metadata": {},
   "source": [
    "###  1. Default Constructor\n",
    "- Default constructor is inserted if constructor is not made while creating a class.\n",
    "- Default constructor does not perform any task it just initializes the object."
   ]
  },
  {
   "cell_type": "code",
   "execution_count": 47,
   "id": "d158e527",
   "metadata": {},
   "outputs": [
    {
     "name": "stdout",
     "output_type": "stream",
     "text": [
      "name\n"
     ]
    }
   ],
   "source": [
    "class Student:\n",
    "    \n",
    "    def example(self):\n",
    "        print('name')\n",
    "# No costructor is written in code but it inserts the default constructor and we are able to create class object \n",
    "# and constructor initializes the object. it does not perform any task.\n",
    "A = Student()\n",
    "A.example()"
   ]
  },
  {
   "cell_type": "markdown",
   "id": "e002081e",
   "metadata": {},
   "source": [
    "### 2. Non-Parametrized constructor\n",
    "- A constructor which does not have any parameter. [__init__(self)]\n",
    "- It does not accept any argument while creating object.\n",
    "- Default values are given to constructor variables."
   ]
  },
  {
   "cell_type": "code",
   "execution_count": 50,
   "id": "87dd86b0",
   "metadata": {},
   "outputs": [
    {
     "name": "stdout",
     "output_type": "stream",
     "text": [
      "Name: Ashraf Age: 22\n"
     ]
    }
   ],
   "source": [
    "class Student:\n",
    "    def __init__ (self):\n",
    "        #setting default values to constructor variables.\n",
    "        self.name = 'Ashraf'\n",
    "        self.age = 22\n",
    "        \n",
    "    def example(self):\n",
    "        print('Name:', self.name, 'Age:', self.age)\n",
    "    \n",
    "    \n",
    "# creating object of class\n",
    "a = Student()\n",
    "a.example()\n",
    "        \n",
    "    "
   ]
  },
  {
   "cell_type": "markdown",
   "id": "b75cb128",
   "metadata": {},
   "source": [
    "### 3. Parameterized Constructor\n",
    "- A parameterized constructor have parameters while creating constructor  [__init__(self, val1, val2, val3]\n"
   ]
  },
  {
   "cell_type": "code",
   "execution_count": 53,
   "id": "452ddad5",
   "metadata": {},
   "outputs": [
    {
     "name": "stdout",
     "output_type": "stream",
     "text": [
      "Name: Fatima Age: 24\n",
      "Name: Anam Age: 21\n"
     ]
    }
   ],
   "source": [
    "class Student:\n",
    "    def __init__(self, name, age):\n",
    "        self.name = name\n",
    "        self.age = age\n",
    "    \n",
    "    def show(a):\n",
    "        print('Name:', a.name, 'Age:', a.age)\n",
    "        \n",
    "        \n",
    "obc1 = Student('Fatima',24)\n",
    "obc1.show()\n",
    "\n",
    "#Creating multiple object from same constructor\n",
    "obc2= Student('Anam',21)\n",
    "obc2.show()"
   ]
  },
  {
   "cell_type": "code",
   "execution_count": 56,
   "id": "b54385fd",
   "metadata": {},
   "outputs": [
    {
     "name": "stdout",
     "output_type": "stream",
     "text": [
      "Name: Fatima Age: 22 Sex: male\n"
     ]
    }
   ],
   "source": [
    "class Student:\n",
    "    def __init__(self, name, age=22, sex = 'male'):\n",
    "        self.name = name\n",
    "        self.age = age\n",
    "        self.sex = sex\n",
    "    \n",
    "    def show(a):\n",
    "        print('Name:', a.name, 'Age:', a.age, 'Sex:', a.sex)\n",
    "        \n",
    "# until and unless we pass the argument to object created it will execute the default values.       \n",
    "obc1 = Student('Fatima')\n",
    "obc1.show()\n",
    "\n",
    "# But if we pass the argument it will change the value to new passed value.\n",
    "obc2 = Student('Fatima',21, 'female')"
   ]
  },
  {
   "cell_type": "markdown",
   "id": "9cad561b",
   "metadata": {},
   "source": [
    "# E] Constructor Overloading\n",
    "- python does not support constructor overloading.\n",
    "- It only considers latest created constructor.\n",
    "- it throws error if object does not matched the sequence of latest created constructor."
   ]
  },
  {
   "cell_type": "code",
   "execution_count": 59,
   "id": "9b1d5bab",
   "metadata": {},
   "outputs": [
    {
     "name": "stdout",
     "output_type": "stream",
     "text": [
      "Two arguments constructor\n"
     ]
    },
    {
     "ename": "TypeError",
     "evalue": "Student.__init__() missing 1 required positional argument: 'age'",
     "output_type": "error",
     "traceback": [
      "\u001b[1;31m---------------------------------------------------------------------------\u001b[0m",
      "\u001b[1;31mTypeError\u001b[0m                                 Traceback (most recent call last)",
      "Input \u001b[1;32mIn [59]\u001b[0m, in \u001b[0;36m<cell line: 14>\u001b[1;34m()\u001b[0m\n\u001b[0;32m     11\u001b[0m         \u001b[38;5;28mself\u001b[39m\u001b[38;5;241m.\u001b[39mage \u001b[38;5;241m=\u001b[39m age\n\u001b[0;32m     13\u001b[0m second \u001b[38;5;241m=\u001b[39m Student(\u001b[38;5;124m'\u001b[39m\u001b[38;5;124msalam\u001b[39m\u001b[38;5;124m'\u001b[39m,\u001b[38;5;241m22\u001b[39m)  \u001b[38;5;66;03m# it executes properly      \u001b[39;00m\n\u001b[1;32m---> 14\u001b[0m first \u001b[38;5;241m=\u001b[39m \u001b[43mStudent\u001b[49m\u001b[43m(\u001b[49m\u001b[38;5;124;43m'\u001b[39;49m\u001b[38;5;124;43mAshraf\u001b[39;49m\u001b[38;5;124;43m'\u001b[39;49m\u001b[43m)\u001b[49m\n",
      "\u001b[1;31mTypeError\u001b[0m: Student.__init__() missing 1 required positional argument: 'age'"
     ]
    }
   ],
   "source": [
    "class Student:\n",
    "    # one argument constructor\n",
    "    def __init__(self, name):\n",
    "        print(\"One arguments constructor\")\n",
    "        self.name = name\n",
    "\n",
    "    # two argument constructor\n",
    "    def __init__(self, name, age):\n",
    "        print(\"Two arguments constructor\")\n",
    "        self.name = name\n",
    "        self.age = age\n",
    "\n",
    "second = Student('salam',22)  # it executes properly      \n",
    "first = Student('Ashraf')     # it will throw error because object arguments does not matched the sequence of latest constr.\n",
    "\n",
    "\n"
   ]
  },
  {
   "cell_type": "markdown",
   "id": "84bef3a5",
   "metadata": {},
   "source": [
    "# F] Constructor Chaining:\n",
    "- Constructor chaining is useful when we want to invoke one constructor from another constructor.\n",
    "- we can invoke constructor by using super()."
   ]
  },
  {
   "cell_type": "code",
   "execution_count": 69,
   "id": "2c847edc",
   "metadata": {},
   "outputs": [
    {
     "name": "stdout",
     "output_type": "stream",
     "text": [
      "First constructor is invoked\n",
      "Second constructor is invoked\n",
      "third constructor is invoked\n",
      "Engine No.: 2500cc Brand: BMW Max speed: 2200\n"
     ]
    }
   ],
   "source": [
    "class vehicle:\n",
    "    def __init__(self, engine):\n",
    "        print('First constructor is invoked')\n",
    "        self.engine = engine\n",
    "        \n",
    "class Car(vehicle):\n",
    "    def __init__(self, engine, brand):\n",
    "        super().__init__(engine)\n",
    "        print('Second constructor is invoked')\n",
    "        self.brand = brand\n",
    "        \n",
    "class Speed(Car):\n",
    "    def __init__(self,engine, brand, max_speed):\n",
    "        super().__init__(engine, brand)\n",
    "        print('third constructor is invoked')\n",
    "        self.max_speed = max_speed\n",
    "        \n",
    "ev = Speed('2500cc','BMW',2200)\n",
    "print('Engine No.:', ev.engine, 'Brand:', ev.brand, 'Max speed:', ev.max_speed)\n",
    "    "
   ]
  },
  {
   "cell_type": "markdown",
   "id": "179022fe",
   "metadata": {},
   "source": [
    "# G] Counter in constructor\n",
    "- it counts the object."
   ]
  },
  {
   "cell_type": "code",
   "execution_count": 71,
   "id": "f989d3e2",
   "metadata": {},
   "outputs": [
    {
     "name": "stdout",
     "output_type": "stream",
     "text": [
      "The No. of Values: 3\n"
     ]
    }
   ],
   "source": [
    "class Employee:\n",
    "    count = 0\n",
    "    def __init__(self):\n",
    "        Employee.count = Employee.count + 1\n",
    "        \n",
    "a = Employee()\n",
    "b = Employee()\n",
    "c = Employee()\n",
    "\n",
    "print('The No. of Values:', Employee.count)\n",
    "        \n",
    "        \n",
    "        "
   ]
  },
  {
   "cell_type": "markdown",
   "id": "905b0198",
   "metadata": {},
   "source": [
    "# H] Instance Variable \n",
    "- Accessing instance variable by using getattr().\n"
   ]
  },
  {
   "cell_type": "code",
   "execution_count": 79,
   "id": "19789d8b",
   "metadata": {},
   "outputs": [
    {
     "name": "stdout",
     "output_type": "stream",
     "text": [
      "Name: Ashraf\n",
      "Age: 22\n"
     ]
    }
   ],
   "source": [
    "class Employee:\n",
    "    def __init__(self, name , age):\n",
    "        self.name = name\n",
    "        self.age = age\n",
    "        \n",
    "emp = Employee('Ashraf', 22)\n",
    "print('Name:', getattr(emp, 'name'))\n",
    "print('Age:', getattr(emp, 'age'))\n",
    "\n",
    "        "
   ]
  },
  {
   "cell_type": "markdown",
   "id": "6e74adae",
   "metadata": {},
   "source": [
    "# I] Accessing instance variable from another class"
   ]
  },
  {
   "cell_type": "code",
   "execution_count": 87,
   "id": "52b0474f",
   "metadata": {},
   "outputs": [
    {
     "name": "stdout",
     "output_type": "stream",
     "text": [
      "Ashraf landcruiser\n"
     ]
    }
   ],
   "source": [
    "class Junaid:\n",
    "    def __init__(self):\n",
    "        self.name = 'Ashraf'\n",
    "        \n",
    "class Ashraf(Junaid):\n",
    "    def __init__(self,car):\n",
    "        super().__init__()\n",
    "        self.car = car\n",
    "    def show1(self):\n",
    "        print(self.name ,self.car)\n",
    "        \n",
    "c = Ashraf('landcruiser')\n",
    "c.show1()\n",
    "    "
   ]
  },
  {
   "cell_type": "markdown",
   "id": "8c6e8968",
   "metadata": {},
   "source": [
    "# J] Class Method\n",
    "- class method is same as simple function defined in class which can access and modify only class variables.\n"
   ]
  },
  {
   "cell_type": "code",
   "execution_count": 91,
   "id": "523a2a37",
   "metadata": {},
   "outputs": [
    {
     "name": "stdout",
     "output_type": "stream",
     "text": [
      "Name: Ashraf Age: 19\n",
      "Name: Ashraf Age: 27\n"
     ]
    }
   ],
   "source": [
    "from datetime import date\n",
    "class Student:\n",
    "    \n",
    "    def __init__(self,name,age):\n",
    "        self.name = name\n",
    "        self.age = age\n",
    "    \n",
    "    \n",
    "    @classmethod\n",
    "    def calculate_age(cls,name, birthday):\n",
    "        return cls(name, date.today().year - birthday)\n",
    "    \n",
    "    \n",
    "    def show(self):\n",
    "        print('Name:', self.name, 'Age:', self.age )\n",
    "        \n",
    "s1 = Student('Ashraf',19)\n",
    "s1.show()\n",
    "\n",
    "#using class method to find age.\n",
    "s2 = Student.calculate_age('Ashraf', 1995)\n",
    "s2.show()\n",
    "        "
   ]
  },
  {
   "cell_type": "code",
   "execution_count": 106,
   "id": "43043726",
   "metadata": {},
   "outputs": [
    {
     "name": "stdout",
     "output_type": "stream",
     "text": [
      "First constructor is invoked\n",
      "Second constructor is invoked\n",
      "pistol black 20 bmw 2500cc\n"
     ]
    }
   ],
   "source": [
    "## Constructor chaining inheriting mutiple instance varibles in child class.\n",
    "\n",
    "\n",
    "class vehicle:\n",
    "    def __init__(self, engine, name, colour, manf):\n",
    "        print('First constructor is invoked')\n",
    "        self.engine = engine\n",
    "        self.name = name\n",
    "        self.colour = colour\n",
    "        self.manf = manf\n",
    "        \n",
    "class Car(vehicle):\n",
    "    def __init__(self,brand,*args):\n",
    "        super().__init__(*args)\n",
    "        print('Second constructor is invoked')\n",
    "        self.brand = brand\n",
    "        \n",
    "    def show(self):\n",
    "        print(self.engine, self.name, self.colour, self.manf, self.brand)\n",
    "        \n",
    "d = Car('2500cc','pistol','black',20, 'bmw')\n",
    "d.show()\n"
   ]
  },
  {
   "cell_type": "markdown",
   "id": "63f379a7",
   "metadata": {},
   "source": [
    "# K] Static Method\n",
    "- Static method doesnot have access to any instance variables and class varibles thats why it cannot modify object instances.\n",
    "- Static method performs operation in isolation.\n",
    "- Static method doesnot have keywords like self, cls."
   ]
  },
  {
   "cell_type": "code",
   "execution_count": 107,
   "id": "cd8c26cf",
   "metadata": {},
   "outputs": [
    {
     "name": "stdout",
     "output_type": "stream",
     "text": [
      "90\n",
      "Ashraf 22\n"
     ]
    }
   ],
   "source": [
    "class Student:\n",
    "    def __init__(self, name, age):\n",
    "        self.name = name \n",
    "        self.age = age\n",
    "        \n",
    "    @staticmethod\n",
    "    def action(marks):\n",
    "        print(marks-10)\n",
    "    \n",
    "    \n",
    "    #instance method\n",
    "    def show(self):\n",
    "        print(self.name, self.age)\n",
    "        \n",
    "        \n",
    "c = Student('Ashraf', 22)\n",
    "c.action(100)\n",
    "c.show()"
   ]
  },
  {
   "cell_type": "code",
   "execution_count": 6,
   "id": "444250a3",
   "metadata": {},
   "outputs": [
    {
     "name": "stdout",
     "output_type": "stream",
     "text": [
      "Completed task_1\n",
      "Completed task_2\n",
      "Completed task_3\n"
     ]
    }
   ],
   "source": [
    "class Employee(object):\n",
    "\n",
    "    def __init__(self, name, salary, project_name):\n",
    "        self.name = name\n",
    "        self.salary = salary\n",
    "        self.project_name = project_name\n",
    "\n",
    "    @staticmethod\n",
    "    def gather_requirement(project_name):\n",
    "        if project_name == 'ABC Project':\n",
    "            requirement = ['task_1', 'task_2', 'task_3']\n",
    "        else:\n",
    "            requirement = ['task_1']\n",
    "        return requirement\n",
    "\n",
    "    # instance method\n",
    "    def work(self):\n",
    "        # call static method from instance method\n",
    "        requirement = self.gather_requirement(self.project_name)\n",
    "        for task in requirement:\n",
    "            print('Completed', task)\n",
    "\n",
    "emp = Employee('Kelly', 12000, 'ABC Project')\n",
    "emp.work()\n"
   ]
  },
  {
   "cell_type": "markdown",
   "id": "ef49f276",
   "metadata": {},
   "source": [
    "# J] Access modifiers\n",
    "- Public Access modifiers\n",
    "- Private Access modifiers\n",
    "- Protected Access modifiers"
   ]
  },
  {
   "cell_type": "markdown",
   "id": "de9a25bb",
   "metadata": {},
   "source": [
    "### 1. Public Access modifiers\n",
    "- Can be accessable from any other class module of outside of class."
   ]
  },
  {
   "cell_type": "code",
   "execution_count": 124,
   "id": "34d0e768",
   "metadata": {},
   "outputs": [
    {
     "name": "stdout",
     "output_type": "stream",
     "text": [
      "Hi\n"
     ]
    }
   ],
   "source": [
    "class ABB:\n",
    "    # public access modifiers are represented as in simple \n",
    "    def xyz(self):\n",
    "        print('Hi')\n",
    "        \n",
    "a = ABB()\n",
    "a.xyz()\n",
    "            \n",
    "        "
   ]
  },
  {
   "cell_type": "markdown",
   "id": "24bffb4e",
   "metadata": {},
   "source": [
    "### 2. Protected Access modifiers\n",
    "- Can be accessible within class and inherited class.\n",
    "- Can be accessible from outside the class."
   ]
  },
  {
   "cell_type": "code",
   "execution_count": null,
   "id": "53aae8d4",
   "metadata": {},
   "outputs": [],
   "source": [
    "class ABB:\n",
    "    def _xyz(self):\n",
    "        print('Hi')\n",
    "    \n",
    "class ABC(ABB):\n",
    "    def the(self):\n",
    "        print('hee')\n",
    "        a = ABB()\n",
    "        a._xyz()\n",
    "        \n",
    "a = ABB()\n",
    "a._xyz()\n",
    "    \n",
    "b = ABC()\n",
    "b.the()"
   ]
  },
  {
   "cell_type": "markdown",
   "id": "30a64f0c",
   "metadata": {},
   "source": [
    "### 3. Private Access modifiers\n",
    "- Private access modifiers only within the class.\n"
   ]
  },
  {
   "cell_type": "code",
   "execution_count": 5,
   "id": "988ebecd",
   "metadata": {},
   "outputs": [
    {
     "name": "stdout",
     "output_type": "stream",
     "text": [
      "Hi\n"
     ]
    }
   ],
   "source": [
    "class ABB:\n",
    "    def __xyz(self):\n",
    "        print('Hi')\n",
    "    #Accessing private access modifiers within the class.\n",
    "    a = ABB()\n",
    "    a.__xyz()\n",
    "        \n",
    "        \n",
    "\n",
    "    \n",
    "\n",
    "        \n"
   ]
  },
  {
   "cell_type": "markdown",
   "id": "e1d33953",
   "metadata": {},
   "source": [
    "# K] Inheritance in python"
   ]
  },
  {
   "cell_type": "markdown",
   "id": "a6379c00",
   "metadata": {},
   "source": [
    "### Multiple inheritance"
   ]
  },
  {
   "cell_type": "code",
   "execution_count": 11,
   "id": "562eed2d",
   "metadata": {},
   "outputs": [
    {
     "name": "stdout",
     "output_type": "stream",
     "text": [
      "Information of employee\n",
      "Salary: 4500000 Skills software Engineer\n",
      "information about company is\n",
      "Company Name: TCS Rank of company: 1st\n",
      "information of the person is\n",
      "name Ashraf age 22\n"
     ]
    }
   ],
   "source": [
    "class Person:\n",
    "    def info(self, name, age):\n",
    "        print('information of the person is')\n",
    "        print('name', name, 'age', age)\n",
    "        \n",
    "class Company:\n",
    "    def detail(self, comp, rank):\n",
    "        print('information about company is')\n",
    "        print('Company Name:', comp, 'Rank of company:',rank)\n",
    "        \n",
    "class Employee(Person,Company):\n",
    "    def employee_detail(self, salary, skill):\n",
    "        print('Information of employee')\n",
    "        print('Salary:', salary, 'Skills', skill)\n",
    "        \n",
    "a = Employee()\n",
    "a.employee_detail('4500000', 'software Engineer')\n",
    "a.detail('TCS', '1st')\n",
    "a.info('Ashraf', 22)\n",
    "        "
   ]
  },
  {
   "cell_type": "markdown",
   "id": "ddcbf4d5",
   "metadata": {},
   "source": [
    "### Multilevel inheritance\n"
   ]
  },
  {
   "cell_type": "code",
   "execution_count": 15,
   "id": "95e1c1a5",
   "metadata": {},
   "outputs": [
    {
     "name": "stdout",
     "output_type": "stream",
     "text": [
      "This is class for Delhivery\n",
      "We use Car for delivery\n",
      "The model of vehicle is 27xp\n"
     ]
    }
   ],
   "source": [
    "class Delivery:\n",
    "    def Dfunc(self,name):\n",
    "        print('This is class for', name)\n",
    "        \n",
    "class Vehicle(Delivery):\n",
    "    def Vfunc(self, mode):\n",
    "        print('We use',mode,'for delivery')\n",
    "        \n",
    "class Car(Vehicle):\n",
    "    def Cfunc(self, model):\n",
    "        print('The model of vehicle is', model)\n",
    "        \n",
    "        \n",
    "c = Car()\n",
    "c.Dfunc('Delhivery')\n",
    "c.Vfunc('Car')\n",
    "c.Cfunc('27xp')"
   ]
  },
  {
   "cell_type": "markdown",
   "id": "ac15bc71",
   "metadata": {},
   "source": [
    "# L] Abstract Class"
   ]
  },
  {
   "cell_type": "code",
   "execution_count": 18,
   "id": "d91a6230",
   "metadata": {},
   "outputs": [
    {
     "ename": "NameError",
     "evalue": "name 'abstractmethod' is not defined",
     "output_type": "error",
     "traceback": [
      "\u001b[1;31m---------------------------------------------------------------------------\u001b[0m",
      "\u001b[1;31mNameError\u001b[0m                                 Traceback (most recent call last)",
      "Input \u001b[1;32mIn [18]\u001b[0m, in \u001b[0;36m<cell line: 2>\u001b[1;34m()\u001b[0m\n\u001b[0;32m      1\u001b[0m \u001b[38;5;28;01mfrom\u001b[39;00m \u001b[38;5;21;01mabc\u001b[39;00m \u001b[38;5;28;01mimport\u001b[39;00m ABC\n\u001b[1;32m----> 2\u001b[0m \u001b[38;5;28;01mclass\u001b[39;00m \u001b[38;5;21;01mABC\u001b[39;00m:\n\u001b[0;32m      3\u001b[0m     \u001b[38;5;129m@abstractmethod\u001b[39m\n\u001b[0;32m      4\u001b[0m     \u001b[38;5;28;01mdef\u001b[39;00m \u001b[38;5;21mshow\u001b[39m(\u001b[38;5;28mself\u001b[39m):\n\u001b[0;32m      5\u001b[0m         \u001b[38;5;28;01mNone\u001b[39;00m\n",
      "Input \u001b[1;32mIn [18]\u001b[0m, in \u001b[0;36mABC\u001b[1;34m()\u001b[0m\n\u001b[0;32m      2\u001b[0m \u001b[38;5;28;01mclass\u001b[39;00m \u001b[38;5;21;01mABC\u001b[39;00m:\n\u001b[1;32m----> 3\u001b[0m     \u001b[38;5;129m@abstractmethod\u001b[39m\n\u001b[0;32m      4\u001b[0m     \u001b[38;5;28;01mdef\u001b[39;00m \u001b[38;5;21mshow\u001b[39m(\u001b[38;5;28mself\u001b[39m):\n\u001b[0;32m      5\u001b[0m         \u001b[38;5;28;01mNone\u001b[39;00m\n",
      "\u001b[1;31mNameError\u001b[0m: name 'abstractmethod' is not defined"
     ]
    }
   ],
   "source": [
    "from abc import ABC\n",
    "class ABC:\n",
    "    @abstractmethod\n",
    "    def show(self):\n",
    "        None\n",
    "        \n",
    "#     @abstractmethod\n",
    "#     def detail (self):\n",
    "#         None\n",
    "        \n",
    "        \n",
    "        \n",
    "class New(ABC):\n",
    "    def show(self,length, breadth):\n",
    "        self.lentgh = length\n",
    "        self.breadth = breadth\n",
    "        print('Area:',self.lenght*self.breadth)\n",
    "        \n",
    "c = New()\n",
    "c.show(20*22)"
   ]
  },
  {
   "cell_type": "code",
   "execution_count": null,
   "id": "328cd4c1",
   "metadata": {},
   "outputs": [],
   "source": []
  }
 ],
 "metadata": {
  "kernelspec": {
   "display_name": "Python 3 (ipykernel)",
   "language": "python",
   "name": "python3"
  },
  "language_info": {
   "codemirror_mode": {
    "name": "ipython",
    "version": 3
   },
   "file_extension": ".py",
   "mimetype": "text/x-python",
   "name": "python",
   "nbconvert_exporter": "python",
   "pygments_lexer": "ipython3",
   "version": "3.10.2"
  }
 },
 "nbformat": 4,
 "nbformat_minor": 5
}
