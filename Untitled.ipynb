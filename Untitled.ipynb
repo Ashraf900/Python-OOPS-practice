{
 "cells": [
  {
   "cell_type": "code",
   "execution_count": 4,
   "id": "439b8c5a",
   "metadata": {},
   "outputs": [
    {
     "name": "stdout",
     "output_type": "stream",
     "text": [
      "0\n",
      "0\n",
      "1\n",
      "0\n",
      "2\n"
     ]
    }
   ],
   "source": [
    "i = 0\n",
    "while i<5:\n",
    "    print(i)\n",
    "    i += 1 \n",
    "    if i ==3:\n",
    "        break\n",
    "    else:\n",
    "        print(0)"
   ]
  },
  {
   "cell_type": "code",
   "execution_count": 11,
   "id": "756f4c72",
   "metadata": {},
   "outputs": [
    {
     "name": "stdout",
     "output_type": "stream",
     "text": [
      "[0, 1, 4, 2]\n",
      "0\n",
      "1\n",
      "4\n",
      "4\n",
      "[0, 1, 4, 4]\n"
     ]
    }
   ],
   "source": [
    "a = [0,1,2,2]\n",
    "a[-2] = 4\n",
    "print(a)\n",
    "\n",
    "\n",
    "for a[-1] in a:\n",
    "    #a[-1]=2\n",
    "    print(a[-1])\n",
    "    \n",
    "print(a)"
   ]
  },
  {
   "cell_type": "code",
   "execution_count": null,
   "id": "26f30c07",
   "metadata": {},
   "outputs": [],
   "source": [
    "def myfunc(e):\n",
    "    return len(e)\n",
    "a = ['Mitsubishi', 'BMW','VW', 'Ford']\n",
    "\n",
    "a.sort(myfunc)\n",
    "print(a)\n"
   ]
  },
  {
   "cell_type": "code",
   "execution_count": null,
   "id": "7e904a50",
   "metadata": {},
   "outputs": [],
   "source": []
  }
 ],
 "metadata": {
  "kernelspec": {
   "display_name": "Python 3 (ipykernel)",
   "language": "python",
   "name": "python3"
  },
  "language_info": {
   "codemirror_mode": {
    "name": "ipython",
    "version": 3
   },
   "file_extension": ".py",
   "mimetype": "text/x-python",
   "name": "python",
   "nbconvert_exporter": "python",
   "pygments_lexer": "ipython3",
   "version": "3.10.2"
  }
 },
 "nbformat": 4,
 "nbformat_minor": 5
}
