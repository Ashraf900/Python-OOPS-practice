{
 "cells": [
  {
   "cell_type": "markdown",
   "id": "591d66eb",
   "metadata": {},
   "source": [
    "# A ] Class & Objects in python\n",
    "- Class is Blue print for object creation.\n",
    "- Class has instance methods.\n",
    "- Class has behavior methods."
   ]
  },
  {
   "cell_type": "code",
   "execution_count": 7,
   "id": "6dc387ef",
   "metadata": {},
   "outputs": [
    {
     "name": "stdout",
     "output_type": "stream",
     "text": [
      "Name: Ashraf ,Age: 23 ,Sex: Male ,Profession: softwarDeveloper\n",
      "Ashraf is working as softwarDeveloper\n"
     ]
    }
   ],
   "source": [
    "class Employee:\n",
    "    # creating an instance method of a class\n",
    "    def __init__(self, Name, Age, Sex, Profession):  # Attributes\n",
    "        self.Name = Name\n",
    "        self.Age = Age\n",
    "        self.Sex = Sex\n",
    "        self.Profession = Profession\n",
    "    # creating an behaviour method of a class\n",
    "    def Details(self):\n",
    "        print('Name:',self.Name, ',Age:', self.Age, ',Sex:',self.Sex, ',Profession:',self.Profession)\n",
    "    \n",
    "    \n",
    "    def Work(self):\n",
    "        print(self.Name,'is working as', self.Profession)\n",
    "        \n",
    "\n",
    "Ashraf =Employee('Ashraf',23,'Male', 'softwarDeveloper')\n",
    "Ashraf.Details()\n",
    "Ashraf.Work()"
   ]
  },
  {
   "cell_type": "markdown",
   "id": "adac9c2f",
   "metadata": {},
   "source": [
    "# B] Class varibles and Instance Variables\n",
    "- Defining class variables and modifying it.\n",
    "- Defining instance variables and modifying instance varible.\n"
   ]
  },
  {
   "cell_type": "code",
   "execution_count": 18,
   "id": "b4614914",
   "metadata": {},
   "outputs": [
    {
     "name": "stdout",
     "output_type": "stream",
     "text": [
      "Name: Ashraf Age: 23\n",
      "School_Name: Burnts college\n",
      "New_school: Saboo Siddik\n"
     ]
    }
   ],
   "source": [
    "class Students:\n",
    "    school = 'Burnts college'# Class variable\n",
    "    def __init__(self, name, age):\n",
    "        self.name= name\n",
    "        self.age = age\n",
    "        \n",
    "        \n",
    "s1 = Students('Ashraf',23)\n",
    "print('Name:',s1.name , 'Age:',s1.age)\n",
    "#Modifying the objects instance variables.\n",
    "s1.name = 'Fatima'\n",
    "s1.age  = 21\n",
    "print('School_Name:',Students.school)\n",
    "\n",
    "#Accessing the class variable and modifying it\n",
    "Students.school = 'Saboo Siddik'\n",
    "\n",
    "print('New_school:',Students.school)\n"
   ]
  },
  {
   "cell_type": "code",
   "execution_count": 28,
   "id": "397b7bf2",
   "metadata": {},
   "outputs": [
    {
     "name": "stdout",
     "output_type": "stream",
     "text": [
      "Name: Ashraf Age: 22 School: Anjuman Islam\n",
      "Name: Fatima Age: 14 School: Saboo Siddik\n"
     ]
    }
   ],
   "source": [
    "class Student:\n",
    "    \n",
    "    School_name = 'Anjuman Islam'\n",
    "    def __init__(self, name, age):\n",
    "        self.name = name\n",
    "        self.age = age\n",
    "    \n",
    "    def show(self):\n",
    "        print(\"Name:\", self.name, \"Age:\", self.age , 'School:', Student.School_name)\n",
    "        \n",
    "    def change_age(self, new_age):\n",
    "        #modifying the instance varibles.\n",
    "        self.age = new_age\n",
    "    \n",
    "    #Creating a classmethod to access or modify class \n",
    "    @classmethod\n",
    "    def new_school(cls, new_name):\n",
    "        cls.School_name = new_name\n",
    "        \n",
    "s1 = Student('Ashraf', 22)\n",
    "s1.show()\n",
    "\n",
    "\n",
    "s2 = Student('Fatima', 21)\n",
    "#modifying the instance variables of s2 object. \n",
    "s2.change_age(14)\n",
    "#modifying the class method to modify the class variable for object 2\n",
    "Student.new_school('Saboo Siddik')\n",
    "s2.show()"
   ]
  },
  {
   "cell_type": "markdown",
   "id": "18ecb3cc",
   "metadata": {},
   "source": [
    "# C] Object & Properties"
   ]
  },
  {
   "cell_type": "code",
   "execution_count": 35,
   "id": "6c3882bc",
   "metadata": {},
   "outputs": [
    {
     "name": "stdout",
     "output_type": "stream",
     "text": [
      "Fruit is Apple and Color is Red\n"
     ]
    }
   ],
   "source": [
    "class Fruit:\n",
    "    def __init__(self, name, color):\n",
    "        self.name = name\n",
    "        self.color = color\n",
    "\n",
    "    def show(self):\n",
    "        print(\"Fruit is\", self.name, \"and Color is\", self.color)\n",
    "#changing object properties\n",
    "s1 = Fruit('Banana', 'yello')\n",
    "\n",
    "#Modifying the object properties\n",
    "s1.name = 'Apple'\n",
    "s1.color = 'Red'\n",
    "\n",
    "s1.show()\n"
   ]
  },
  {
   "cell_type": "markdown",
   "id": "01969fdd",
   "metadata": {},
   "source": [
    "### Deleting object "
   ]
  },
  {
   "cell_type": "code",
   "execution_count": 40,
   "id": "77313127",
   "metadata": {},
   "outputs": [
    {
     "ename": "AttributeError",
     "evalue": "'Fruit' object has no attribute 'name'",
     "output_type": "error",
     "traceback": [
      "\u001b[1;31m---------------------------------------------------------------------------\u001b[0m",
      "\u001b[1;31mAttributeError\u001b[0m                            Traceback (most recent call last)",
      "Input \u001b[1;32mIn [40]\u001b[0m, in \u001b[0;36m<cell line: 21>\u001b[1;34m()\u001b[0m\n\u001b[0;32m     15\u001b[0m \u001b[38;5;66;03m#Delelting the entire s1 object\u001b[39;00m\n\u001b[0;32m     16\u001b[0m \u001b[38;5;66;03m# del s1\u001b[39;00m\n\u001b[0;32m     17\u001b[0m \u001b[38;5;66;03m# s1.show()\u001b[39;00m\n\u001b[0;32m     18\u001b[0m \n\u001b[0;32m     19\u001b[0m \u001b[38;5;66;03m#Deleting the object s1 property\u001b[39;00m\n\u001b[0;32m     20\u001b[0m \u001b[38;5;28;01mdel\u001b[39;00m s1\u001b[38;5;241m.\u001b[39mname\n\u001b[1;32m---> 21\u001b[0m \u001b[43ms1\u001b[49m\u001b[38;5;241;43m.\u001b[39;49m\u001b[43mshow\u001b[49m\u001b[43m(\u001b[49m\u001b[43m)\u001b[49m\n",
      "Input \u001b[1;32mIn [40]\u001b[0m, in \u001b[0;36mFruit.show\u001b[1;34m(self)\u001b[0m\n\u001b[0;32m      6\u001b[0m \u001b[38;5;28;01mdef\u001b[39;00m \u001b[38;5;21mshow\u001b[39m(\u001b[38;5;28mself\u001b[39m):\n\u001b[1;32m----> 7\u001b[0m     \u001b[38;5;28mprint\u001b[39m(\u001b[38;5;124m\"\u001b[39m\u001b[38;5;124mFruit is\u001b[39m\u001b[38;5;124m\"\u001b[39m, \u001b[38;5;28;43mself\u001b[39;49m\u001b[38;5;241;43m.\u001b[39;49m\u001b[43mname\u001b[49m, \u001b[38;5;124m\"\u001b[39m\u001b[38;5;124mand Color is\u001b[39m\u001b[38;5;124m\"\u001b[39m, \u001b[38;5;28mself\u001b[39m\u001b[38;5;241m.\u001b[39mcolor)\n",
      "\u001b[1;31mAttributeError\u001b[0m: 'Fruit' object has no attribute 'name'"
     ]
    }
   ],
   "source": [
    "class Fruit:\n",
    "    def __init__(self, name, color):\n",
    "        self.name = name\n",
    "        self.color = color\n",
    "\n",
    "    def show(self):\n",
    "        print(\"Fruit is\", self.name, \"and Color is\", self.color)\n",
    "#changing object properties\n",
    "s1 = Fruit('Banana', 'yello')\n",
    "\n",
    "#Modifying the object properties\n",
    "s1.name = 'Apple'\n",
    "s1.color = 'Red'\n",
    "\n",
    "#Delelting the entire s1 object\n",
    "del s1\n",
    "s1.show()\n",
    "\n",
    "#Deleting the object s1 property\n",
    "del s1.name\n",
    "s1.show()\n",
    "\n",
    "\n"
   ]
  },
  {
   "cell_type": "code",
   "execution_count": null,
   "id": "e7d9fdbc",
   "metadata": {},
   "outputs": [],
   "source": []
  }
 ],
 "metadata": {
  "kernelspec": {
   "display_name": "Python 3 (ipykernel)",
   "language": "python",
   "name": "python3"
  },
  "language_info": {
   "codemirror_mode": {
    "name": "ipython",
    "version": 3
   },
   "file_extension": ".py",
   "mimetype": "text/x-python",
   "name": "python",
   "nbconvert_exporter": "python",
   "pygments_lexer": "ipython3",
   "version": "3.10.2"
  }
 },
 "nbformat": 4,
 "nbformat_minor": 5
}
